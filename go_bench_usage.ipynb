{
 "cells": [
  {
   "cell_type": "code",
   "execution_count": null,
   "metadata": {},
   "outputs": [],
   "source": []
  },
  {
   "cell_type": "markdown",
   "metadata": {},
   "source": [
    "# Download required files"
   ]
  },
  {
   "cell_type": "code",
   "execution_count": null,
   "metadata": {},
   "outputs": [],
   "source": [
    "!mkdir data\n",
    "#Gene ontology\n",
    "!wget -nc -O data/go.obo \"http://purl.obolibrary.org/obo/go/go-basic.obo\"\n",
    "#Gene Ontology Annotations (2021 April) (LARGE FILE >60 GB uncompressed). \n",
    "!wget -nc -O data/goa.gaf.gz \"ftp://ftp.ebi.ac.uk/pub/databases/GO/goa/old//UNIPROT/goa_uniprot_all.gaf.203.gz\"\n",
    "!wget -nc -O data/swissprot.tar.gz \"https://ftp.uniprot.org/pub/databases/uniprot/previous_major_releases/release-2021_02/knowledgebase/uniprot_sprot-only2021_02.tar.gz\"\n",
    "!mkdir data/swissprot && cd data/swissprot && tar -zxvf ../swissprot.tar.gz && cd .."
   ]
  },
  {
   "cell_type": "markdown",
   "metadata": {},
   "source": [
    "# Filter GOA for Swissprot Proteins"
   ]
  },
  {
   "cell_type": "code",
   "execution_count": null,
   "metadata": {},
   "outputs": [],
   "source": [
    "import gzip\n",
    "import pandas as pd\n",
    "from tqdm import tqdm\n",
    "from Bio import SeqIO\n",
    "from Bio.UniProt.GOA import GAF20FIELDS\n",
    "\n",
    "#Filter GOA annotations to SwissProt proteins. \n",
    "with gzip.open('../data/swissprot/uniprot_sprot.fasta.gz', 'rt') as fp:\n",
    "    seq_ids = set(map(lambda rec: rec.id.split('|')[1], SeqIO.parse(fp, 'fasta')))\n",
    "    \n",
    "#Subsample relevant rows of GOA. \n",
    "df_iter = pd.read_csv('data/goa.gaf.gz', dtype=str,\n",
    "                      sep='\\t',\n",
    "                      comment='!',\n",
    "                      names=GAF20FIELDS,\n",
    "                      chunksize=int(1e6))\n",
    "\n",
    "for zdf in tqdm(df_iter, desc='Parsing GOA for SwissProt'):\n",
    "    # For now, remove all with a qualifier\n",
    "    zdf = zdf[zdf.DB_Object_ID.isin(seq_ids)]\n",
    "    zdf.to_csv('data/swissprot_goa.gaf', mode='a', sep='\\t', na_rep='', header=False)"
   ]
  },
  {
   "cell_type": "markdown",
   "metadata": {},
   "source": [
    "# Run GOBench Pipeline"
   ]
  },
  {
   "cell_type": "code",
   "execution_count": null,
   "metadata": {},
   "outputs": [],
   "source": [
    "from goatools.obo_parser import GODag\n",
    "from go_bench.pipeline import pipeline\n",
    "import os\n",
    "godag = GODag('data/go.obo')\n",
    "from go_bench.utils import exp_group, non_iea_group, all_group, namespaces\n",
    "#Make training, validation, and testing sets\n",
    "goa_path = \"../data/swissprot_goa.gaf.gz\"\n",
    "split_path = \"../data_splits/cluster50\"\n",
    "\n",
    "save_dir = \"./\"\n",
    "if(not os.path.isdir(save_dir)):\n",
    "    os.makedirs(save_dir) \n",
    "pipeline(goa_path, split_path, save_dir, godag, codes=exp_group, filter_type=('min_samples', 100))"
   ]
  }
 ],
 "metadata": {
  "language_info": {
   "name": "python"
  },
  "orig_nbformat": 4
 },
 "nbformat": 4,
 "nbformat_minor": 2
}
