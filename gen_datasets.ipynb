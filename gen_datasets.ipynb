{
 "cells": [
  {
   "cell_type": "code",
   "execution_count": 1,
   "metadata": {},
   "outputs": [],
   "source": [
    "%load_ext autoreload\n",
    "%autoreload 2"
   ]
  },
  {
   "cell_type": "code",
   "execution_count": 2,
   "metadata": {},
   "outputs": [],
   "source": [
    "from Bio.UniProt.GOA import GAF20FIELDS\n",
    "import pandas as pd\n",
    "from tqdm import tqdm"
   ]
  },
  {
   "cell_type": "markdown",
   "metadata": {},
   "source": [
    "# Download required files. "
   ]
  },
  {
   "cell_type": "code",
   "execution_count": 8,
   "metadata": {},
   "outputs": [
    {
     "name": "stdout",
     "output_type": "stream",
     "text": [
      "--2021-08-19 23:46:21--  http://purl.obolibrary.org/obo/go/go-basic.obo\n",
      "Resolving purl.obolibrary.org (purl.obolibrary.org)... 52.3.123.63\n",
      "Connecting to purl.obolibrary.org (purl.obolibrary.org)|52.3.123.63|:80... connected.\n",
      "HTTP request sent, awaiting response... 302 Found\n",
      "Location: http://current.geneontology.org/ontology/go-basic.obo [following]\n",
      "--2021-08-19 23:46:22--  http://current.geneontology.org/ontology/go-basic.obo\n",
      "Resolving current.geneontology.org (current.geneontology.org)... 99.84.232.231, 99.84.232.35, 99.84.232.185, ...\n",
      "Connecting to current.geneontology.org (current.geneontology.org)|99.84.232.231|:80... connected.\n",
      "HTTP request sent, awaiting response... 200 OK\n",
      "Length: 30897160 (29M) [text/obo]\n",
      "Saving to: ‘data/go.obo’\n",
      "\n",
      "data/go.obo         100%[===================>]  29.47M  70.2MB/s    in 0.4s    \n",
      "\n",
      "2021-08-19 23:46:22 (70.2 MB/s) - ‘data/go.obo’ saved [30897160/30897160]\n",
      "\n"
     ]
    }
   ],
   "source": [
    "#Gene ontology\n",
    "!wget -nc -O data/go.obo \"http://purl.obolibrary.org/obo/go/go-basic.obo\""
   ]
  },
  {
   "cell_type": "code",
   "execution_count": 7,
   "metadata": {},
   "outputs": [
    {
     "name": "stdout",
     "output_type": "stream",
     "text": [
      "--2021-08-19 23:35:37--  ftp://ftp.ebi.ac.uk/pub/databases/GO/goa/old//UNIPROT/goa_uniprot_all.gaf.203.gz\n",
      "           => ‘data/goa.gaf.gz’\n",
      "Resolving ftp.ebi.ac.uk (ftp.ebi.ac.uk)... 193.62.193.138\n",
      "Connecting to ftp.ebi.ac.uk (ftp.ebi.ac.uk)|193.62.193.138|:21... connected.\n",
      "Logging in as anonymous ... Logged in!\n",
      "==> SYST ... done.    ==> PWD ... done.\n",
      "==> TYPE I ... done.  ==> CWD (1) /pub/databases/GO/goa/old//UNIPROT ... done.\n",
      "==> SIZE goa_uniprot_all.gaf.203.gz ... 13749964119\n",
      "==> PASV ... done.    ==> RETR goa_uniprot_all.gaf.203.gz ... done.\n",
      "Length: 13749964119 (13G) (unauthoritative)\n",
      "\n",
      "goa_uniprot_all.gaf 100%[===================>]  12.80G  20.5MB/s    in 10m 42s \n",
      "\n",
      "2021-08-19 23:46:21 (20.4 MB/s) - ‘data/goa.gaf.gz’ saved [13749964119]\n",
      "\n"
     ]
    }
   ],
   "source": [
    "#Gene Ontology Annotations (2021 April)\n",
    "!wget -nc -O data/goa.gaf.gz \"ftp://ftp.ebi.ac.uk/pub/databases/GO/goa/old//UNIPROT/goa_uniprot_all.gaf.203.gz\""
   ]
  },
  {
   "cell_type": "code",
   "execution_count": 4,
   "metadata": {},
   "outputs": [
    {
     "name": "stdout",
     "output_type": "stream",
     "text": [
      "--2021-08-19 23:33:15--  https://ftp.uniprot.org/pub/databases/uniprot/previous_major_releases/release-2021_02/knowledgebase/uniprot_sprot-only2021_02.tar.gz\n",
      "Resolving ftp.uniprot.org (ftp.uniprot.org)... 128.175.240.195\n",
      "Connecting to ftp.uniprot.org (ftp.uniprot.org)|128.175.240.195|:443... connected.\n",
      "HTTP request sent, awaiting response... 200 OK\n",
      "Length: 1491395408 (1.4G) [application/x-gzip]\n",
      "Saving to: ‘data/swissprot.tar.gz’\n",
      "\n",
      "data/swissprot.tar. 100%[===================>]   1.39G  28.6MB/s    in 56s     \n",
      "\n",
      "2021-08-19 23:34:12 (25.4 MB/s) - ‘data/swissprot.tar.gz’ saved [1491395408/1491395408]\n",
      "\n",
      "uniprot_sprot.dat.gz\n",
      "uniprot_sprot.fasta.gz\n",
      "uniprot_sprot_varsplic.fasta.gz\n",
      "uniprot_sprot.xml.gz\n"
     ]
    }
   ],
   "source": [
    "#Swissprot proteins\n",
    "!mkdir data\n",
    "!wget -nc -O data/swissprot.tar.gz \"https://ftp.uniprot.org/pub/databases/uniprot/previous_major_releases/release-2021_02/knowledgebase/uniprot_sprot-only2021_02.tar.gz\"\n",
    "!mkdir data/swissprot && cd data/swissprot && tar -zxvf ../swissprot.tar.gz && cd .."
   ]
  },
  {
   "cell_type": "code",
   "execution_count": 11,
   "metadata": {},
   "outputs": [],
   "source": [
    "import gzip\n",
    "from Bio import SeqIO\n",
    "#Filter GOA annotations to SwissProt proteins. \n",
    "with gzip.open('data/swissprot/uniprot_sprot.fasta.gz', 'rt') as fp:\n",
    "    seq_ids = set(map(lambda rec: rec.id.split('|')[1], SeqIO.parse(fp, 'fasta')))\n",
    "                      "
   ]
  },
  {
   "cell_type": "code",
   "execution_count": 15,
   "metadata": {},
   "outputs": [
    {
     "name": "stderr",
     "output_type": "stream",
     "text": [
      "Parsing GOA for SwissProt: 953it [1:02:26,  3.93s/it]\n"
     ]
    }
   ],
   "source": [
    "#Subsample relevant rows of GOA. \n",
    "df_iter = pd.read_csv('data/goa.gaf.gz', dtype=str,\n",
    "                      sep='\\t',\n",
    "                      comment='!',\n",
    "                      names=GAF20FIELDS,\n",
    "                      chunksize=int(1e6))\n",
    "\n",
    "for zdf in tqdm(df_iter, desc='Parsing GOA for SwissProt'):\n",
    "    # For now, remove all with a qualifier\n",
    "    zdf = zdf[zdf.DB_Object_ID.isin(seq_ids)]\n",
    "    zdf.to_csv('data/swissprot_goa.gaf', mode='a', sep='\\t', na_rep='', header=False)"
   ]
  },
  {
   "cell_type": "code",
   "execution_count": 16,
   "metadata": {},
   "outputs": [],
   "source": [
    "!gzip data/swissprot_goa.gaf"
   ]
  },
  {
   "cell_type": "code",
   "execution_count": 35,
   "metadata": {},
   "outputs": [],
   "source": [
    "from go_bench.utils import exp_group\n",
    "\n",
    "prot_id_sets = (\"training\", \"validation\", \"testing\")\n",
    "prot_id_dict = {}\n",
    "split_path = \"data/data_splits/cluster50\"\n",
    "for set_type in prot_id_sets:\n",
    "    with open(f\"{split_path}/{set_type}_ids.txt\", \"r\") as f:\n",
    "        prot_id_dict[set_type] = set(x[:-1] for x in f.readlines())\n",
    "        \n",
    "#Convert swissprot dataframe into training set for BLAST. \n",
    "swissprot_df = pd.read_csv('data/swissprot_goa.gaf.gz',\n",
    "                          sep='\\t',\n",
    "                          comment='!',\n",
    "                          names=GAF20FIELDS)\n",
    "\n",
    "EXP_EVIDENCE = set(exp_group)\n",
    "training_set = prot_id_dict['training']\n",
    "neg_qualifiers = {q for q in set(swissprot_df.Qualifier) if \"NOT\" in q or \"negative\" in q}\n",
    "swissprot_df = swissprot_df[swissprot_df.DB_Object_ID.isin(training_set) & swissprot_df.Evidence.isin(EXP_EVIDENCE) & ~swissprot_df.Qualifier.isin(neg_qualifiers)]\n",
    "blast_fmt_ann = swissprot_df[['DB_Object_ID', 'GO_ID']].copy()\n",
    "blast_fmt_ann.to_csv(\"data/cluster50_blast_fmt_ann.tab\", sep='\\t', index=False, header=False)"
   ]
  },
  {
   "cell_type": "code",
   "execution_count": 173,
   "metadata": {},
   "outputs": [
    {
     "name": "stdout",
     "output_type": "stream",
     "text": [
      "373506\n",
      "80027\n",
      "79976\n",
      "533509 533509\n"
     ]
    }
   ],
   "source": [
    "all_prot_ids = set()\n",
    "t = 0\n",
    "for d in prot_id_dict.values():\n",
    "    print(len(d))\n",
    "    t += len(d)\n",
    "    all_prot_ids.update(d)\n",
    "print(len(all_prot_ids), t)"
   ]
  },
  {
   "cell_type": "code",
   "execution_count": 38,
   "metadata": {},
   "outputs": [
    {
     "name": "stdout",
     "output_type": "stream",
     "text": [
      "data/go.obo: fmt(1.2) rel(2021-07-02) 47,229 GO Terms\n"
     ]
    }
   ],
   "source": [
    "from goatools.obo_parser import GODag\n",
    "from go_bench.pipeline import pipeline\n",
    "import os\n",
    "godag = GODag('data/go.obo')"
   ]
  },
  {
   "cell_type": "code",
   "execution_count": 1,
   "metadata": {},
   "outputs": [],
   "source": [
    "from go_bench.utils import exp_group, non_iea_group, all_group, namespaces"
   ]
  },
  {
   "cell_type": "code",
   "execution_count": null,
   "metadata": {},
   "outputs": [],
   "source": [
    "#Make training, validation, and testing sets\n",
    "goa_path = \"data/swissprot_goa.gaf.gz\"\n",
    "split_path = \"data/data_splits/cluster50\""
   ]
  },
  {
   "cell_type": "code",
   "execution_count": 57,
   "metadata": {},
   "outputs": [
    {
     "name": "stdout",
     "output_type": "stream",
     "text": [
      "77447\n",
      "130836\n",
      "146008\n",
      "542641\n"
     ]
    }
   ],
   "source": [
    "from go_bench.utils import exp_group, exp_phy_ht_group, non_iea_group, all_group\n",
    "for g in [exp_group, exp_phy_ht_group, non_iea_group, all_group]:\n",
    "    pa_dict = load_protein_annotations(goa_path, g)\n",
    "    print(len(pa_dict))"
   ]
  },
  {
   "cell_type": "code",
   "execution_count": 3,
   "metadata": {},
   "outputs": [
    {
     "name": "stdout",
     "output_type": "stream",
     "text": [
      "('EXP', 'IDA', 'IPI', 'IMP', 'IGI', 'IEP', 'TAS', 'IC') ('EXP', 'IDA', 'IPI', 'IMP', 'IGI', 'IEP', 'TAS', 'IC', 'HTP', 'HDA', 'HMP', 'HGI', 'HEP', 'IBA', 'IBD', 'IKR', 'IRD', 'ISS', 'ISO', 'ISA', 'ISM', 'IGC', 'RCA') ('ISO', 'IGI', 'ISA', 'IGC', 'IEP', 'RCA', 'HDA', 'HGI', 'IKR', 'TAS', 'HEP', 'ND', 'IBA', 'IMP', 'EXP', 'IDA', 'IC', 'ISM', 'ISS', 'NAS', 'IRD', 'IEA', 'IPI', 'HMP')\n"
     ]
    }
   ],
   "source": [
    "print(exp_group, non_iea_group, all_group)"
   ]
  },
  {
   "cell_type": "code",
   "execution_count": 78,
   "metadata": {},
   "outputs": [
    {
     "name": "stdout",
     "output_type": "stream",
     "text": [
      "loading annotations\n",
      "initial len 485514\n",
      "filtering annotations to godag\n",
      "filtered len 485083\n",
      "propogating annotations\n",
      "propogated len 3163432\n",
      "getting counts\n",
      "generating datasets\n",
      "12188 terms in molecular_function\n",
      "filtering namespace: molecular_function\n",
      "filtered_list length 427\n",
      "prot_ids: 373506\n",
      "saving results\n",
      "saving to training_data/exp/training_molecular_function_annotations.tsv\n",
      "training_data/exp/training_molecular_function_annotations.tsv 77444 373506 427\n",
      "prot_ids: 80027\n",
      "saving results\n",
      "saving to training_data/exp/validation_molecular_function_annotations.tsv\n",
      "training_data/exp/validation_molecular_function_annotations.tsv 77444 80027 427\n",
      "testing list length 6778\n",
      "prot_ids: 79976\n",
      "saving results\n",
      "saving to training_data/exp/testing_molecular_function_annotations.tsv\n",
      "training_data/exp/testing_molecular_function_annotations.tsv 77444 79976 6778\n",
      "30633 terms in biological_process\n",
      "filtering namespace: biological_process\n",
      "filtered_list length 2218\n",
      "prot_ids: 373506\n",
      "saving results\n",
      "saving to training_data/exp/training_biological_process_annotations.tsv\n",
      "training_data/exp/training_biological_process_annotations.tsv 77444 373506 2218\n",
      "prot_ids: 80027\n",
      "saving results\n",
      "saving to training_data/exp/validation_biological_process_annotations.tsv\n",
      "training_data/exp/validation_biological_process_annotations.tsv 77444 80027 2218\n",
      "testing list length 20888\n",
      "prot_ids: 79976\n",
      "saving results\n",
      "saving to training_data/exp/testing_biological_process_annotations.tsv\n",
      "training_data/exp/testing_biological_process_annotations.tsv 77444 79976 20888\n",
      "4408 terms in cellular_component\n",
      "filtering namespace: cellular_component\n",
      "filtered_list length 343\n",
      "prot_ids: 373506\n",
      "saving results\n",
      "saving to training_data/exp/training_cellular_component_annotations.tsv\n",
      "training_data/exp/training_cellular_component_annotations.tsv 77444 373506 343\n",
      "prot_ids: 80027\n",
      "saving results\n",
      "saving to training_data/exp/validation_cellular_component_annotations.tsv\n",
      "training_data/exp/validation_cellular_component_annotations.tsv 77444 80027 343\n",
      "testing list length 2768\n",
      "prot_ids: 79976\n",
      "saving results\n",
      "saving to training_data/exp/testing_cellular_component_annotations.tsv\n",
      "training_data/exp/testing_cellular_component_annotations.tsv 77444 79976 2768\n"
     ]
    }
   ],
   "source": [
    "save_dir = \"datasets/exp\"\n",
    "if(not os.path.isdir(save_dir)):\n",
    "    os.makedirs(save_dir) \n",
    "pipeline(goa_path, split_path, save_dir, godag, codes=exp_group)"
   ]
  },
  {
   "cell_type": "code",
   "execution_count": 80,
   "metadata": {},
   "outputs": [
    {
     "name": "stdout",
     "output_type": "stream",
     "text": [
      "loading annotations\n",
      "initial len 485514\n",
      "filtering annotations to godag\n",
      "filtered len 485083\n",
      "propogating annotations\n",
      "propogated len 3163432\n",
      "getting counts\n",
      "generating datasets\n",
      "12188 terms in molecular_function\n",
      "filtering namespace: molecular_function\n",
      "filtered_list length 427\n",
      "prot_ids: 373506\n",
      "saving results\n",
      "saving to training_data/exp/training_molecular_function_annotations.tsv\n",
      "training_data/exp/training_molecular_function_annotations.tsv 77444 373506 427\n",
      "prot_ids: 80027\n",
      "saving results\n",
      "saving to training_data/exp/validation_molecular_function_annotations.tsv\n",
      "training_data/exp/validation_molecular_function_annotations.tsv 77444 80027 427\n",
      "testing list length 6778\n",
      "prot_ids: 79976\n",
      "saving results\n",
      "saving to training_data/exp/testing_molecular_function_annotations.tsv\n",
      "training_data/exp/testing_molecular_function_annotations.tsv 77444 79976 6778\n",
      "30633 terms in biological_process\n",
      "filtering namespace: biological_process\n",
      "filtered_list length 2218\n",
      "prot_ids: 373506\n",
      "saving results\n",
      "saving to training_data/exp/training_biological_process_annotations.tsv\n",
      "training_data/exp/training_biological_process_annotations.tsv 77444 373506 2218\n",
      "prot_ids: 80027\n",
      "saving results\n",
      "saving to training_data/exp/validation_biological_process_annotations.tsv\n",
      "training_data/exp/validation_biological_process_annotations.tsv 77444 80027 2218\n",
      "testing list length 20888\n",
      "prot_ids: 79976\n",
      "saving results\n",
      "saving to training_data/exp/testing_biological_process_annotations.tsv\n",
      "training_data/exp/testing_biological_process_annotations.tsv 77444 79976 20888\n",
      "4408 terms in cellular_component\n",
      "filtering namespace: cellular_component\n",
      "filtered_list length 343\n",
      "prot_ids: 373506\n",
      "saving results\n",
      "saving to training_data/exp/training_cellular_component_annotations.tsv\n",
      "training_data/exp/training_cellular_component_annotations.tsv 77444 373506 343\n",
      "prot_ids: 80027\n",
      "saving results\n",
      "saving to training_data/exp/validation_cellular_component_annotations.tsv\n",
      "training_data/exp/validation_cellular_component_annotations.tsv 77444 80027 343\n",
      "testing list length 2768\n",
      "prot_ids: 79976\n",
      "saving results\n",
      "saving to training_data/exp/testing_cellular_component_annotations.tsv\n",
      "training_data/exp/testing_cellular_component_annotations.tsv 77444 79976 2768\n",
      "loading annotations\n",
      "initial len 1123265\n",
      "filtering annotations to godag\n",
      "filtered len 1122246\n",
      "propogating annotations\n",
      "propogated len 7280291\n",
      "getting counts\n",
      "generating datasets\n",
      "12188 terms in molecular_function\n",
      "filtering namespace: molecular_function\n",
      "filtered_list length 865\n",
      "prot_ids: 373506\n",
      "saving results\n",
      "saving to training_data/non_IEA/training_molecular_function_annotations.tsv\n",
      "training_data/non_IEA/training_molecular_function_annotations.tsv 146004 373506 865\n",
      "prot_ids: 80027\n",
      "saving results\n",
      "saving to training_data/non_IEA/validation_molecular_function_annotations.tsv\n",
      "training_data/non_IEA/validation_molecular_function_annotations.tsv 146004 80027 865\n",
      "testing list length 6880\n",
      "prot_ids: 79976\n",
      "saving results\n",
      "saving to training_data/non_IEA/testing_molecular_function_annotations.tsv\n",
      "training_data/non_IEA/testing_molecular_function_annotations.tsv 146004 79976 6880\n",
      "30633 terms in biological_process\n",
      "filtering namespace: biological_process\n",
      "filtered_list length 3886\n",
      "prot_ids: 373506\n",
      "saving results\n",
      "saving to training_data/non_IEA/training_biological_process_annotations.tsv\n",
      "training_data/non_IEA/training_biological_process_annotations.tsv 146004 373506 3886\n",
      "prot_ids: 80027\n",
      "saving results\n",
      "saving to training_data/non_IEA/validation_biological_process_annotations.tsv\n",
      "training_data/non_IEA/validation_biological_process_annotations.tsv 146004 80027 3886\n",
      "testing list length 20999\n",
      "prot_ids: 79976\n",
      "saving results\n",
      "saving to training_data/non_IEA/testing_biological_process_annotations.tsv\n",
      "training_data/non_IEA/testing_biological_process_annotations.tsv 146004 79976 20999\n",
      "4408 terms in cellular_component\n",
      "filtering namespace: cellular_component\n",
      "filtered_list length 581\n",
      "prot_ids: 373506\n",
      "saving results\n",
      "saving to training_data/non_IEA/training_cellular_component_annotations.tsv\n",
      "training_data/non_IEA/training_cellular_component_annotations.tsv 146004 373506 581\n",
      "prot_ids: 80027\n",
      "saving results\n",
      "saving to training_data/non_IEA/validation_cellular_component_annotations.tsv\n",
      "training_data/non_IEA/validation_cellular_component_annotations.tsv 146004 80027 581\n",
      "testing list length 2802\n",
      "prot_ids: 79976\n",
      "saving results\n",
      "saving to training_data/non_IEA/testing_cellular_component_annotations.tsv\n",
      "training_data/non_IEA/testing_cellular_component_annotations.tsv 146004 79976 2802\n",
      "loading annotations\n",
      "initial len 4847966\n",
      "filtering annotations to godag\n",
      "filtered len 4846553\n",
      "propogating annotations\n",
      "propogated len 26503197\n",
      "getting counts\n",
      "generating datasets\n",
      "12188 terms in molecular_function\n",
      "filtering namespace: molecular_function\n",
      "filtered_list length 1737\n",
      "prot_ids: 373506\n",
      "saving results\n",
      "saving to training_data/all/training_molecular_function_annotations.tsv\n",
      "training_data/all/training_molecular_function_annotations.tsv 542641 373506 1737\n",
      "prot_ids: 80027\n",
      "saving results\n",
      "saving to training_data/all/validation_molecular_function_annotations.tsv\n",
      "training_data/all/validation_molecular_function_annotations.tsv 542641 80027 1737\n",
      "testing list length 8277\n",
      "prot_ids: 79976\n",
      "saving results\n",
      "saving to training_data/all/testing_molecular_function_annotations.tsv\n",
      "training_data/all/testing_molecular_function_annotations.tsv 542641 79976 8277\n",
      "30633 terms in biological_process\n",
      "filtering namespace: biological_process\n",
      "filtered_list length 5167\n",
      "prot_ids: 373506\n",
      "saving results\n",
      "saving to training_data/all/training_biological_process_annotations.tsv\n",
      "training_data/all/training_biological_process_annotations.tsv 542641 373506 5167\n",
      "prot_ids: 80027\n",
      "saving results\n",
      "saving to training_data/all/validation_biological_process_annotations.tsv\n",
      "training_data/all/validation_biological_process_annotations.tsv 542641 80027 5167\n",
      "testing list length 21279\n",
      "prot_ids: 79976\n",
      "saving results\n",
      "saving to training_data/all/testing_biological_process_annotations.tsv\n",
      "training_data/all/testing_biological_process_annotations.tsv 542641 79976 21279\n",
      "4408 terms in cellular_component\n",
      "filtering namespace: cellular_component\n",
      "filtered_list length 778\n",
      "prot_ids: 373506\n",
      "saving results\n",
      "saving to training_data/all/training_cellular_component_annotations.tsv\n",
      "training_data/all/training_cellular_component_annotations.tsv 542641 373506 778\n",
      "prot_ids: 80027\n",
      "saving results\n",
      "saving to training_data/all/validation_cellular_component_annotations.tsv\n",
      "training_data/all/validation_cellular_component_annotations.tsv 542641 80027 778\n",
      "testing list length 2897\n",
      "prot_ids: 79976\n",
      "saving results\n",
      "saving to training_data/all/testing_cellular_component_annotations.tsv\n",
      "training_data/all/testing_cellular_component_annotations.tsv 542641 79976 2897\n"
     ]
    }
   ],
   "source": [
    "ann_groups = [exp_group, non_iea_group, all_group]\n",
    "ann_names = [\"exp\", \"non_IEA\", \"all\"]\n",
    "for g_name, g in zip(ann_names, ann_groups):\n",
    "    save_dir = f\"datasets/{g_name}\"\n",
    "    if(not os.path.isdir(save_dir)):\n",
    "        os.makedirs(save_dir) \n",
    "    pipeline(goa_path, split_path, save_dir, godag, codes=g, filter_type=('min_samples', 100))"
   ]
  },
  {
   "cell_type": "code",
   "execution_count": 131,
   "metadata": {},
   "outputs": [
    {
     "name": "stdout",
     "output_type": "stream",
     "text": [
      "2218\n"
     ]
    }
   ],
   "source": [
    "from go_bench.load_tools import load_GO_tsv_file\n",
    "import json\n",
    "load_dir = \"datasets/exp\"\n",
    "with open(f\"{load_dir}/biological_process_terms.json\", \"r\") as f:\n",
    "    terms = json.load(f)\n",
    "print(len(terms))"
   ]
  },
  {
   "cell_type": "code",
   "execution_count": 132,
   "metadata": {},
   "outputs": [],
   "source": [
    "prot_id_sets = (\"training\", \"validation\", \"testing\")\n",
    "prot_id_dict = {}\n",
    "split_path = \"data/data_splits/cluster50\"\n",
    "for set_type in prot_id_sets:\n",
    "    with open(f\"{split_path}/{set_type}_ids.txt\", \"r\") as f:\n",
    "        prot_id_dict[set_type] = set(x[:-1] for x in f.readlines())\n",
    "        \n",
    "#Convert swissprot dataframe into training set for BLAST. \n",
    "swissprot_df = pd.read_csv('data/swissprot_goa.gaf.gz',\n",
    "                          sep='\\t',\n",
    "                          comment='!',\n",
    "                          names=GAF20FIELDS)"
   ]
  },
  {
   "cell_type": "code",
   "execution_count": 174,
   "metadata": {},
   "outputs": [
    {
     "name": "stdout",
     "output_type": "stream",
     "text": [
      "8207416\n"
     ]
    }
   ],
   "source": [
    "print(len(swissprot_df))"
   ]
  },
  {
   "cell_type": "code",
   "execution_count": 177,
   "metadata": {},
   "outputs": [
    {
     "name": "stdout",
     "output_type": "stream",
     "text": [
      "30633\n"
     ]
    }
   ],
   "source": [
    "molecular_function_terms = set([term for term in godag if godag[term].namespace == \"molecular_function\"])\n",
    "print(len(biological_process_terms))"
   ]
  },
  {
   "cell_type": "code",
   "execution_count": 178,
   "metadata": {},
   "outputs": [],
   "source": [
    "EXP_EVIDENCE = set(exp_group)\n",
    "training_set = prot_id_dict['training']\n",
    "neg_qualifiers = {q for q in set(swissprot_df.Qualifier) if \"NOT\" in q or \"negative\" in q}\n",
    "exp_df = swissprot_df[swissprot_df.DB_Object_ID.isin(training_set) & swissprot_df.Evidence.isin(EXP_EVIDENCE) & ~swissprot_df.Qualifier.isin(neg_qualifiers)]\n",
    "exp_df = exp_df[exp_df.GO_ID.isin(molecular_function_terms)]"
   ]
  },
  {
   "cell_type": "code",
   "execution_count": 180,
   "metadata": {},
   "outputs": [
    {
     "name": "stdout",
     "output_type": "stream",
     "text": [
      "8207416\n"
     ]
    }
   ],
   "source": [
    "print(len(swissprot_df))"
   ]
  },
  {
   "cell_type": "code",
   "execution_count": 179,
   "metadata": {},
   "outputs": [
    {
     "name": "stdout",
     "output_type": "stream",
     "text": [
      "282145\n"
     ]
    }
   ],
   "source": [
    "print(len(exp_df))"
   ]
  },
  {
   "cell_type": "code",
   "execution_count": 138,
   "metadata": {},
   "outputs": [],
   "source": [
    "exp_dict = load_GO_tsv_file(f\"{load_dir}/training_biological_process_annotations.tsv\")"
   ]
  },
  {
   "cell_type": "code",
   "execution_count": 155,
   "metadata": {},
   "outputs": [],
   "source": [
    "from scipy.sparse import csr_matrix, dok_matrix\n",
    "from go_bench.utils import list_ancestors\n",
    "trm = {t:i for i, t in enumerate(biological_process_terms)}\n",
    "ancestor_mat = dok_matrix((len(biological_process_terms), len(biological_process_terms)))\n",
    "for term in biological_process_terms:\n",
    "    i = trm[term]\n",
    "    for j in [trm[t] for t in list_ancestors(term, godag)]:\n",
    "        ancestor_mat[i, j] = 1\n",
    "ancestor_mat = csr_matrix(ancestor_mat)"
   ]
  },
  {
   "cell_type": "code",
   "execution_count": 154,
   "metadata": {},
   "outputs": [],
   "source": [
    "annotation_mat = dok_matrix((len(training_set), len(biological_process_terms)))\n",
    "prm = {p:i for i, p in enumerate(training_set)}\n",
    "for prot, go_id in zip(exp_df.DB_Object_ID, exp_df.GO_ID):\n",
    "    annotation_mat[prm[prot], trm[go_id]] = 1\n",
    "annotation_mat = csr_matrix(annotation_mat)"
   ]
  },
  {
   "cell_type": "code",
   "execution_count": 169,
   "metadata": {},
   "outputs": [],
   "source": [
    "prop_ann_mat = annotation_mat.dot(ancestor_mat)\n",
    "prop_ann_mat.data = np.ones(prop_ann_mat.data.shape)"
   ]
  },
  {
   "cell_type": "code",
   "execution_count": 170,
   "metadata": {},
   "outputs": [
    {
     "name": "stdout",
     "output_type": "stream",
     "text": [
      "1171322.0\n"
     ]
    }
   ],
   "source": [
    "go_counts = np.squeeze(np.array(prop_ann_mat.sum(axis=0)))\n",
    "go_counts[go_counts < 100] = 0\n",
    "print(sum(go_counts))"
   ]
  },
  {
   "cell_type": "code",
   "execution_count": 171,
   "metadata": {},
   "outputs": [
    {
     "name": "stdout",
     "output_type": "stream",
     "text": [
      "38691 1280280\n"
     ]
    }
   ],
   "source": [
    "print(len(exp_dict), sum(len(x) for x in exp_dict.values()))"
   ]
  },
  {
   "cell_type": "code",
   "execution_count": 147,
   "metadata": {},
   "outputs": [
    {
     "name": "stdout",
     "output_type": "stream",
     "text": [
      "2218\n"
     ]
    },
    {
     "data": {
      "image/png": "[encoded data removed]",
      "text/plain": [
       "<Figure size 432x288 with 1 Axes>"
      ]
     },
     "metadata": {
      "needs_background": "light"
     },
     "output_type": "display_data"
    }
   ],
   "source": [
    "go_counts = Counter()\n",
    "for go_ids in exp_dict.values():\n",
    "    go_counts.update(go_ids)\n",
    "plt.plot(sorted(list(go_counts.values())))\n",
    "print(len(go_counts))"
   ]
  },
  {
   "cell_type": "code",
   "execution_count": null,
   "metadata": {},
   "outputs": [],
   "source": []
  }
 ],
 "metadata": {
  "interpreter": {
   "hash": "7fa62d36c8cf89bb248408e490dc2bc5640cf94832f5b25373f429d29fbd226e"
  },
  "kernelspec": {
   "display_name": "Python 3",
   "language": "python",
   "name": "python3"
  },
  "language_info": {
   "codemirror_mode": {
    "name": "ipython",
    "version": 3
   },
   "file_extension": ".py",
   "mimetype": "text/x-python",
   "name": "python",
   "nbconvert_exporter": "python",
   "pygments_lexer": "ipython3",
   "version": "3.8.1"
  }
 },
 "nbformat": 4,
 "nbformat_minor": 2
}
